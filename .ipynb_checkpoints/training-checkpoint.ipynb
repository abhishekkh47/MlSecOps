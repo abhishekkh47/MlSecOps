{
 "cells": [
  {
   "cell_type": "code",
   "execution_count": null,
   "metadata": {},
   "outputs": [],
   "source": []
  },
  {
   "cell_type": "code",
   "execution_count": 13,
   "metadata": {},
   "outputs": [],
   "source": [
    "import pandas as pd\n",
    "dataset = pd.read_csv('http_logs.csv')\n",
    "\n",
    "from sklearn.preprocessing import OneHotEncoder, LabelEncoder\n",
    "X = dataset.iloc[:,:]\n",
    "x = X.values\n",
    "\n",
    "label = LabelEncoder()\n",
    "\n",
    "IP = label.fit_transform(x[:,0])\n",
    "D = label.fit_transform(x[:,1])\n",
    "U = label.fit_transform(x[:,2])\n",
    "\n",
    "df1 = pd.DataFrame(IP, columns=['IPs'])\n",
    "df2 = pd.DataFrame(D, columns=['DATE'])\n",
    "df3 = pd.DataFrame(U, columns=['URL'])\n",
    "\n",
    "frames = [df1, df2, df3]\n",
    "result = pd.concat(frames, axis=1 )\n",
    "\n",
    "from sklearn.preprocessing import StandardScaler\n",
    "sc = StandardScaler()\n",
    "\n",
    "data_scaled = sc.fit_transform(result)\n"
   ]
  },
  {
   "cell_type": "code",
   "execution_count": 14,
   "metadata": {},
   "outputs": [
    {
     "data": {
      "image/png": "[encoded data removed]",
      "text/plain": [
       "<Figure size 432x288 with 1 Axes>"
      ]
     },
     "metadata": {
      "needs_background": "light"
     },
     "output_type": "display_data"
    }
   ],
   "source": [
    "import matplotlib.pyplot as plt\n",
    "inertias = [] \n",
    "K = range(1,10) \n",
    "\n",
    "for k in K: \n",
    "    kmeanModel = KMeans(n_clusters=k)\n",
    "    kmeanModel.fit(data_scaled) \n",
    "    inertias.append(kmeanModel.inertia_) \n",
    "                                     \n",
    "\n",
    "plt.plot(K, inertias, 'o-')\n",
    "plt.xlabel('Values of K') \n",
    "plt.ylabel('SSE') \n",
    "plt.title('The Elbow Method using SSE') \n",
    "                                     \n",
    "plt.show() "
   ]
  },
  {
   "cell_type": "code",
   "execution_count": 15,
   "metadata": {},
   "outputs": [],
   "source": [
    "from sklearn.cluster import KMeans\n",
    "\n",
    "\n",
    "# value of k=4 from above graph\n",
    "model = KMeans(n_clusters=4)\n",
    "model.fit(data_scaled)\n",
    "pred  = model.fit_predict(data_scaled)\n",
    "dataset_scaled = pd.DataFrame(data_scaled, columns=['IP', 'Date', 'URL'])\n",
    "\n",
    "dataset_scaled['cluster name'] = pred\n",
    "\n",
    "ips = [dataset['IP'], result['IPs']]\n",
    "ips_result = pd.concat(ips, axis=1)\n",
    "\n",
    "def CountFrequency(my_list, ip_label): \n",
    "  \n",
    "    # Creating an empty dictionary  \n",
    "    freq = {} \n",
    "    for item in my_list: \n",
    "        if (item in freq): \n",
    "            freq[item] += 1\n",
    "        else: \n",
    "            freq[item] = 1\n",
    "    max_freq = 0\n",
    "    max_key = 0\n",
    "    for key, value in freq.items(): \n",
    "        if value > max_freq:\n",
    "            max_freq = value\n",
    "            max_key = key\n",
    "    \n",
    "    return ip_label[my_list.index(max_key)]\n",
    "\n",
    "res = CountFrequency(ips_result['IPs'].tolist(), ips_result['IP'].tolist())\n",
    "\n",
    "file1 = open(\"result.txt\",\"w\")\n",
    "file1.write(res)\n",
    "file1.close()"
   ]
  },
  {
   "cell_type": "code",
   "execution_count": 16,
   "metadata": {},
   "outputs": [],
   "source": [
    "!notepad result.txt"
   ]
  },
  {
   "cell_type": "raw",
   "metadata": {},
   "source": [
    "### linux commands to be executed to block an IP\n",
    "\n",
    "from os import system\n",
    "with open(\"/mlops/blockedIp.txt\",\"r\") as file1:\n",
    "    for i in file1:\n",
    "        system('iptables -A INPUT -s {} -j DROP'.format(i.rstrip('\\n')))                                                                   \n",
    "        system('service iptables save')          "
   ]
  },
  {
   "cell_type": "code",
   "execution_count": null,
   "metadata": {},
   "outputs": [],
   "source": []
  },
  {
   "cell_type": "code",
   "execution_count": null,
   "metadata": {},
   "outputs": [],
   "source": []
  }
 ],
 "metadata": {
  "kernelspec": {
   "display_name": "Python 3",
   "language": "python",
   "name": "python3"
  },
  "language_info": {
   "codemirror_mode": {
    "name": "ipython",
    "version": 3
   },
   "file_extension": ".py",
   "mimetype": "text/x-python",
   "name": "python",
   "nbconvert_exporter": "python",
   "pygments_lexer": "ipython3",
   "version": "3.7.0"
  }
 },
 "nbformat": 4,
 "nbformat_minor": 2
}
