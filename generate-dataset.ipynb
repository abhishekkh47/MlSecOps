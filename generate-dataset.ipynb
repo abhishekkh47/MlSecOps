{
 "cells": [
  {
   "cell_type": "code",
   "execution_count": 1,
   "metadata": {},
   "outputs": [],
   "source": [
    "import re \n",
    "file1 = open('access_log.txt', 'r') \n",
    "count = 0\n",
    "\n",
    "p = re.compile(r'^\\d+.\\d+.\\d+.\\d+') \n",
    "z = re.compile(r\"\\[([A-Za-z0-9+\\:\\/ ]+)\\]\") \n",
    "u = re.compile(r\"\\\"([A-Za-z0-9+\\:\\/.:_; ]+)\\\"\") \n",
    "ip = []\n",
    "\n",
    "\n",
    "for line in file1: \n",
    "    count += 1\n",
    "    c = p.findall(line)\n",
    "    da = z.findall(line)\n",
    "    ur = u.findall(line)\n",
    "    if len(c) == 0:\n",
    "        pass\n",
    "    else:\n",
    "        c.append(da[0])\n",
    "        c.append(ur[0])\n",
    "        ip.append(c)\n",
    "        \n",
    "file1.close() \n",
    "\n",
    "import pandas as pd    \n",
    "\n",
    "df = pd.DataFrame(ip, columns=['IP', 'DATE', 'URL'])\n",
    "csv_data = df.to_csv(index=False)\n",
    "df.to_csv('ip_dataset.csv', index=False)"
   ]
  },
  {
   "cell_type": "code",
   "execution_count": null,
   "metadata": {},
   "outputs": [],
   "source": []
  }
 ],
 "metadata": {
  "kernelspec": {
   "display_name": "Python 3",
   "language": "python",
   "name": "python3"
  },
  "language_info": {
   "codemirror_mode": {
    "name": "ipython",
    "version": 3
   },
   "file_extension": ".py",
   "mimetype": "text/x-python",
   "name": "python",
   "nbconvert_exporter": "python",
   "pygments_lexer": "ipython3",
   "version": "3.7.0"
  }
 },
 "nbformat": 4,
 "nbformat_minor": 2
}
